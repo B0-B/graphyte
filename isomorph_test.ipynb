{
 "cells": [
  {
   "cell_type": "code",
   "execution_count": 1,
   "metadata": {},
   "outputs": [],
   "source": [
    "from core.graph import *"
   ]
  },
  {
   "cell_type": "code",
   "execution_count": 2,
   "metadata": {},
   "outputs": [],
   "source": [
    "G = PathGraph('TestGraph', directed=0)"
   ]
  },
  {
   "cell_type": "code",
   "execution_count": 3,
   "metadata": {},
   "outputs": [],
   "source": [
    "nodes = [Node(G) for i in range(12)]"
   ]
  },
  {
   "cell_type": "code",
   "execution_count": 4,
   "metadata": {},
   "outputs": [
    {
     "data": {
      "text/plain": [
       "<core.graph.Edge at 0x1ae8a8b4890>"
      ]
     },
     "execution_count": 4,
     "metadata": {},
     "output_type": "execute_result"
    }
   ],
   "source": [
    "# create a bunch of edges\n",
    "G.add_edge(1,2)\n",
    "G.add_edge(1,7)\n",
    "G.add_edge(1,8)\n",
    "G.add_edge(2,3)\n",
    "G.add_edge(2,6)\n",
    "G.add_edge(3,4)\n",
    "G.add_edge(3,5)\n",
    "G.add_edge(5,6)\n",
    "G.add_edge(6,9)\n",
    "G.add_edge(8,9)\n",
    "G.add_edge(8,12)\n",
    "G.add_edge(9,10)\n",
    "G.add_edge(9,11)"
   ]
  },
  {
   "cell_type": "code",
   "execution_count": 5,
   "metadata": {},
   "outputs": [
    {
     "data": {
      "text/markdown": [
       "# TestGraph\n",
       "\n",
       "```mermaid\n",
       "flowchart LR\n",
       "\tid_1((1))\n",
       "\tid_2((2))\n",
       "\tid_3((3))\n",
       "\tid_4((4))\n",
       "\tid_5((5))\n",
       "\tid_6((6))\n",
       "\tid_7((7))\n",
       "\tid_8((8))\n",
       "\tid_9((9))\n",
       "\tid_10((10))\n",
       "\tid_11((11))\n",
       "\tid_12((12))\n",
       "\tid_9 --- id_10\n",
       "\tid_1 --- id_2\n",
       "\tid_3 --- id_4\n",
       "\tid_1 --- id_8\n",
       "\tid_2 --- id_3\n",
       "\tid_1 --- id_7\n",
       "\tid_8 --- id_9\n",
       "\tid_2 --- id_6\n",
       "\tid_5 --- id_6\n",
       "\tid_8 --- id_12\n",
       "\tid_9 --- id_11\n",
       "\tid_6 --- id_9\n",
       "\tid_3 --- id_5\n",
       "```"
      ],
      "text/plain": [
       "<IPython.core.display.Markdown object>"
      ]
     },
     "metadata": {},
     "output_type": "display_data"
    }
   ],
   "source": [
    "from visual import show\n",
    "show(G)"
   ]
  },
  {
   "cell_type": "code",
   "execution_count": 6,
   "metadata": {},
   "outputs": [
    {
     "name": "stdout",
     "output_type": "stream",
     "text": [
      "test 1 2\n",
      "test 2 3\n",
      "test 3 4\n",
      "test 3 5\n"
     ]
    },
    {
     "data": {
      "text/plain": [
       "<core.graph.Edge at 0x1aeb8e14b90>"
      ]
     },
     "execution_count": 6,
     "metadata": {},
     "output_type": "execute_result"
    }
   ],
   "source": [
    "ot = OrderTree(root_id=1, directed=1)\n",
    "ot.add_node(1, 2)\n",
    "ot.add_node(2, 3)\n",
    "ot.add_node(3, 4)\n",
    "ot.add_node(3, 5)\n",
    "ot.add_edge(2, 5)\n",
    "# ot.add_node(8, 12)\n",
    "# ot.add_node(8, 1)\n",
    "# ot.add_node(6, 2)\n",
    "# ot.add_node(6, 5)\n",
    "# ot.add_node(5, 3)\n",
    "# ot.add_node(3, 4)\n",
    "# ot.add_node(1, 7)"
   ]
  },
  {
   "cell_type": "code",
   "execution_count": 7,
   "metadata": {},
   "outputs": [
    {
     "data": {
      "text/plain": [
       "{(1, 2), (2, 3), (2, 5), (3, 4), (3, 5)}"
      ]
     },
     "execution_count": 7,
     "metadata": {},
     "output_type": "execute_result"
    }
   ],
   "source": [
    "ot.edge_space"
   ]
  },
  {
   "cell_type": "code",
   "execution_count": 14,
   "metadata": {},
   "outputs": [
    {
     "data": {
      "text/plain": [
       "{0}"
      ]
     },
     "execution_count": 14,
     "metadata": {},
     "output_type": "execute_result"
    }
   ],
   "source": [
    "ot.depth_set(1)"
   ]
  },
  {
   "cell_type": "code",
   "execution_count": 9,
   "metadata": {},
   "outputs": [
    {
     "name": "stdout",
     "output_type": "stream",
     "text": [
      "depth set {1}\n",
      "depth set {2, 4}\n",
      "depth set {3, 4}\n",
      "depth set set()\n",
      "```mermaid\n",
      "flowchart TB\n",
      "\tid_1((1))\n",
      "\tid_2((2))\n",
      "\tid_3((3))\n",
      "\tid_4((4))\n",
      "\tid_5((5))\n",
      "\tid_None --> id_1\n",
      "\tid_1 --> id_2\n",
      "\tid_1 --> id_2\n",
      "\tid_3 --> id_4\n",
      "\tid_2 --> id_3\n",
      "\tid_2 --> id_3\n",
      "\tid_3 --> id_4\n",
      "\tid_3 --> id_4\n",
      "\tid_3 --> id_5\n",
      "```\n"
     ]
    }
   ],
   "source": [
    "print(ot.to_mermaid())"
   ]
  },
  {
   "cell_type": "code",
   "execution_count": 10,
   "metadata": {},
   "outputs": [
    {
     "name": "stdout",
     "output_type": "stream",
     "text": [
      "depth set {1}\n",
      "depth set {2, 4}\n",
      "depth set {3, 4}\n",
      "depth set set()\n"
     ]
    },
    {
     "data": {
      "text/markdown": [
       "# Ordered_Tree_01\n",
       "\n",
       "```mermaid\n",
       "flowchart TB\n",
       "\tid_1((1))\n",
       "\tid_2((2))\n",
       "\tid_3((3))\n",
       "\tid_4((4))\n",
       "\tid_5((5))\n",
       "\tid_None --> id_1\n",
       "\tid_1 --> id_2\n",
       "\tid_1 --> id_2\n",
       "\tid_3 --> id_4\n",
       "\tid_2 --> id_3\n",
       "\tid_2 --> id_3\n",
       "\tid_3 --> id_4\n",
       "\tid_3 --> id_4\n",
       "\tid_3 --> id_5\n",
       "```"
      ],
      "text/plain": [
       "<IPython.core.display.Markdown object>"
      ]
     },
     "metadata": {},
     "output_type": "display_data"
    }
   ],
   "source": [
    "show(ot)"
   ]
  },
  {
   "cell_type": "code",
   "execution_count": 11,
   "metadata": {},
   "outputs": [
    {
     "data": {
      "text/plain": [
       "array([[0, 1, 0, 0, 0],\n",
       "       [0, 0, 1, 0, 1],\n",
       "       [0, 0, 0, 1, 1],\n",
       "       [0, 0, 0, 0, 0],\n",
       "       [0, 0, 0, 0, 0]])"
      ]
     },
     "execution_count": 11,
     "metadata": {},
     "output_type": "execute_result"
    }
   ],
   "source": [
    "a = ot.adjacency_matrix()\n",
    "a"
   ]
  },
  {
   "cell_type": "code",
   "execution_count": 12,
   "metadata": {},
   "outputs": [
    {
     "name": "stdout",
     "output_type": "stream",
     "text": [
      "depth set {1}\n",
      "depth set {2, 4}\n",
      "depth set {3, 4}\n",
      "depth set set()\n"
     ]
    },
    {
     "data": {
      "text/plain": [
       "'```mermaid\\nflowchart TB\\n\\tid_1((1))\\n\\tid_2((2))\\n\\tid_3((3))\\n\\tid_4((4))\\n\\tid_5((5))\\n\\tid_None --> id_1\\n\\tid_1 --> id_2\\n\\tid_1 --> id_2\\n\\tid_3 --> id_4\\n\\tid_2 --> id_3\\n\\tid_2 --> id_3\\n\\tid_3 --> id_4\\n\\tid_3 --> id_4\\n\\tid_3 --> id_5\\n```'"
      ]
     },
     "execution_count": 12,
     "metadata": {},
     "output_type": "execute_result"
    }
   ],
   "source": [
    "ot.to_mermaid()"
   ]
  },
  {
   "cell_type": "code",
   "execution_count": 13,
   "metadata": {},
   "outputs": [
    {
     "data": {
      "text/plain": [
       "array([[0, 0, 1, 0, 1],\n",
       "       [0, 0, 0, 1, 1],\n",
       "       [0, 0, 0, 0, 0],\n",
       "       [0, 0, 0, 0, 0],\n",
       "       [0, 0, 0, 0, 0]])"
      ]
     },
     "execution_count": 13,
     "metadata": {},
     "output_type": "execute_result"
    }
   ],
   "source": [
    "a = a @ a \n",
    "a"
   ]
  }
 ],
 "metadata": {
  "kernelspec": {
   "display_name": "Python 3",
   "language": "python",
   "name": "python3"
  },
  "language_info": {
   "codemirror_mode": {
    "name": "ipython",
    "version": 3
   },
   "file_extension": ".py",
   "mimetype": "text/x-python",
   "name": "python",
   "nbconvert_exporter": "python",
   "pygments_lexer": "ipython3",
   "version": "3.11.4"
  }
 },
 "nbformat": 4,
 "nbformat_minor": 2
}
