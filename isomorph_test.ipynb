{
 "cells": [
  {
   "cell_type": "code",
   "execution_count": 9,
   "metadata": {},
   "outputs": [],
   "source": [
    "from core.graph import *\n",
    "from visual import show"
   ]
  },
  {
   "cell_type": "code",
   "execution_count": 10,
   "metadata": {},
   "outputs": [],
   "source": [
    "G = PathGraph('TestGraph', directed=0)"
   ]
  },
  {
   "cell_type": "code",
   "execution_count": 11,
   "metadata": {},
   "outputs": [],
   "source": [
    "nodes = [Node(G) for i in range(12)]"
   ]
  },
  {
   "cell_type": "code",
   "execution_count": 12,
   "metadata": {},
   "outputs": [
    {
     "data": {
      "text/plain": [
       "<core.graph.Edge at 0x12d7eec3290>"
      ]
     },
     "execution_count": 12,
     "metadata": {},
     "output_type": "execute_result"
    }
   ],
   "source": [
    "# create a bunch of edges\n",
    "G.add_edge(1,2)\n",
    "G.add_edge(1,7)\n",
    "G.add_edge(1,8)\n",
    "G.add_edge(2,3)\n",
    "G.add_edge(2,6)\n",
    "G.add_edge(3,4)\n",
    "G.add_edge(3,5)\n",
    "G.add_edge(5,6)\n",
    "G.add_edge(6,9)\n",
    "G.add_edge(8,9)\n",
    "G.add_edge(8,12)\n",
    "G.add_edge(9,10)\n",
    "G.add_edge(9,11)"
   ]
  },
  {
   "cell_type": "code",
   "execution_count": 13,
   "metadata": {},
   "outputs": [
    {
     "data": {
      "text/markdown": [
       "# TestGraph\n",
       "\n",
       "```mermaid\n",
       "flowchart LR\n",
       "\tid_1((1))\n",
       "\tid_2((2))\n",
       "\tid_3((3))\n",
       "\tid_4((4))\n",
       "\tid_5((5))\n",
       "\tid_6((6))\n",
       "\tid_7((7))\n",
       "\tid_8((8))\n",
       "\tid_9((9))\n",
       "\tid_10((10))\n",
       "\tid_11((11))\n",
       "\tid_12((12))\n",
       "\tid_9 --- id_10\n",
       "\tid_1 --- id_2\n",
       "\tid_3 --- id_4\n",
       "\tid_1 --- id_8\n",
       "\tid_2 --- id_3\n",
       "\tid_1 --- id_7\n",
       "\tid_8 --- id_9\n",
       "\tid_2 --- id_6\n",
       "\tid_5 --- id_6\n",
       "\tid_8 --- id_12\n",
       "\tid_9 --- id_11\n",
       "\tid_6 --- id_9\n",
       "\tid_3 --- id_5\n",
       "```"
      ],
      "text/plain": [
       "<IPython.core.display.Markdown object>"
      ]
     },
     "metadata": {},
     "output_type": "display_data"
    }
   ],
   "source": [
    "show(G)"
   ]
  },
  {
   "cell_type": "code",
   "execution_count": 14,
   "metadata": {},
   "outputs": [
    {
     "data": {
      "text/markdown": [
       "# Ordered_Tree_01\n",
       "\n",
       "```mermaid\n",
       "flowchart TB\n",
       "\tid_1((1))\n",
       "\tid_2((2))\n",
       "\tid_5((5))\n",
       "\tid_6((6))\n",
       "\tid_8((8))\n",
       "\tid_9((9))\n",
       "\tid_10((10))\n",
       "\tid_11((11))\n",
       "\tid_12((12))\n",
       "\tid_9 --> id_10\n",
       "\tid_9 --> id_11\n",
       "\tid_9 --> id_8\n",
       "\tid_9 --> id_6\n",
       "\tid_8 --> id_12\n",
       "\tid_8 --> id_1\n",
       "\tid_6 --> id_5\n",
       "\tid_6 --> id_2\n",
       "```"
      ],
      "text/plain": [
       "<IPython.core.display.Markdown object>"
      ]
     },
     "metadata": {},
     "output_type": "display_data"
    }
   ],
   "source": [
    "ot = OrderTree(root_id=9)\n",
    "\n",
    "ot.add_node(9, 10)\n",
    "ot.add_node(9, 11)\n",
    "ot.add_node(9, 8)\n",
    "ot.add_node(9, 6)\n",
    "\n",
    "ot.add_node(6, 5)\n",
    "ot.add_node(6, 2)\n",
    "ot.add_node(8, 12)\n",
    "ot.add_node(8, 1)\n",
    "\n",
    "ot.node(9).label = 'root'\n",
    "\n",
    "show(ot)"
   ]
  },
  {
   "cell_type": "code",
   "execution_count": 15,
   "metadata": {},
   "outputs": [
    {
     "data": {
      "text/plain": [
       "{6, 8, 10, 11}"
      ]
     },
     "execution_count": 15,
     "metadata": {},
     "output_type": "execute_result"
    }
   ],
   "source": [
    "ot.depth_set(1)"
   ]
  },
  {
   "cell_type": "code",
   "execution_count": 16,
   "metadata": {},
   "outputs": [
    {
     "name": "stdout",
     "output_type": "stream",
     "text": [
      "```mermaid\n",
      "flowchart TB\n",
      "\tid_1((1))\n",
      "\tid_2((2))\n",
      "\tid_5((5))\n",
      "\tid_6((6))\n",
      "\tid_8((8))\n",
      "\tid_9((9))\n",
      "\tid_10((10))\n",
      "\tid_11((11))\n",
      "\tid_12((12))\n",
      "\tid_9 --> id_10\n",
      "\tid_9 --> id_11\n",
      "\tid_9 --> id_8\n",
      "\tid_9 --> id_6\n",
      "\tid_8 --> id_12\n",
      "\tid_8 --> id_1\n",
      "\tid_6 --> id_5\n",
      "\tid_6 --> id_2\n",
      "```\n"
     ]
    }
   ],
   "source": [
    "print(ot.to_mermaid())"
   ]
  }
 ],
 "metadata": {
  "kernelspec": {
   "display_name": "Python 3",
   "language": "python",
   "name": "python3"
  },
  "language_info": {
   "codemirror_mode": {
    "name": "ipython",
    "version": 3
   },
   "file_extension": ".py",
   "mimetype": "text/x-python",
   "name": "python",
   "nbconvert_exporter": "python",
   "pygments_lexer": "ipython3",
   "version": "3.11.4"
  }
 },
 "nbformat": 4,
 "nbformat_minor": 2
}
