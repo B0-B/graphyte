{
 "cells": [
  {
   "cell_type": "code",
   "execution_count": 1,
   "metadata": {},
   "outputs": [],
   "source": [
    "from core import *"
   ]
  },
  {
   "cell_type": "code",
   "execution_count": 2,
   "metadata": {},
   "outputs": [],
   "source": [
    "G = PathGraph(directed=0)"
   ]
  },
  {
   "cell_type": "code",
   "execution_count": 3,
   "metadata": {},
   "outputs": [],
   "source": [
    "# create a bunch of nodes\n",
    "nodes = [Node(G) for i in range(12)]"
   ]
  },
  {
   "cell_type": "code",
   "execution_count": 4,
   "metadata": {},
   "outputs": [
    {
     "data": {
      "text/plain": [
       "<core.Edge at 0x1713d54a290>"
      ]
     },
     "execution_count": 4,
     "metadata": {},
     "output_type": "execute_result"
    }
   ],
   "source": [
    "# create a bunch of edges\n",
    "G.node(1).link(2)\n",
    "G.node(1).link(7)\n",
    "G.node(1).link(8)\n",
    "G.node(2).link(3)\n",
    "G.node(2).link(6)\n",
    "G.node(3).link(4)\n",
    "G.node(3).link(5)\n",
    "G.node(5).link(6)\n",
    "G.node(6).link(9)\n",
    "G.node(8).link(9)\n",
    "G.node(8).link(12)\n",
    "G.node(9).link(10)\n",
    "G.node(9).link(11)"
   ]
  },
  {
   "cell_type": "markdown",
   "metadata": {},
   "source": [
    "```mermaid\n",
    "flowchart LR\n",
    "    id_1((1))\n",
    "    id_2((2))\n",
    "    id_3((3))\n",
    "    id_4((4))\n",
    "    id_5((5))\n",
    "    id_6((6))\n",
    "    id_7((7))\n",
    "    id_8((8))\n",
    "    id_9((9))\n",
    "    id_10((10))\n",
    "    id_11((11))\n",
    "    id_12((12))\n",
    "\n",
    "    id_1 --- id_2\n",
    "    id_1 --- id_7\n",
    "    id_1 --- id_8\n",
    "    id_2 --- id_3\n",
    "    id_2 --- id_6\n",
    "    id_3 --- id_4\n",
    "    id_3 --- id_5\n",
    "    id_5 --- id_6\n",
    "    id_6 --- id_9\n",
    "    id_8 --- id_9\n",
    "    id_8 --- id_12\n",
    "    id_9 --- id_10\n",
    "    id_9 --- id_11\n",
    "```"
   ]
  },
  {
   "cell_type": "code",
   "execution_count": 5,
   "metadata": {},
   "outputs": [],
   "source": [
    "a = [3,1,5,8,3,0]"
   ]
  },
  {
   "cell_type": "code",
   "execution_count": 6,
   "metadata": {},
   "outputs": [
    {
     "data": {
      "text/plain": [
       "{0, 1, 3, 5, 8}"
      ]
     },
     "execution_count": 6,
     "metadata": {},
     "output_type": "execute_result"
    }
   ],
   "source": [
    "set(a)"
   ]
  },
  {
   "cell_type": "code",
   "execution_count": 7,
   "metadata": {},
   "outputs": [
    {
     "name": "stdout",
     "output_type": "stream",
     "text": [
      "step 0) Current Sequence: [5]\n",
      "\t5 is a new branch\n",
      "\tgo to 3 ...\n",
      "step 1) Current Sequence: [5, 3]\n",
      "\t3 is a new branch\n",
      "\tgo to 2 ...\n",
      "step 2) Current Sequence: [5, 3, 2]\n",
      "\t2 is a new branch\n",
      "\tgo to 1 ...\n",
      "step 3) Current Sequence: [5, 3, 2, 1]\n",
      "\t1 is a new branch\n",
      "\tgo to 8 ...\n",
      "step 4) Current Sequence: [5, 3, 2, 1, 8]\n",
      "\t8 is a new branch\n",
      "\tgo to 12 ...\n",
      "step 5) Current Sequence: [5, 3, 2, 1, 8, 12]\n",
      "\t12 is a dead-end, return back to 8\n",
      "step 6) Current Sequence: [5, 3, 2, 1, 8]\n",
      "\tgo to 9 ...\n",
      "step 7) Current Sequence: [5, 3, 2, 1, 8, 9]\n",
      "found sequence: [5, 3, 2, 1, 8, 9]\n",
      "step 8) Current Sequence: [5, 3, 2, 1, 8]\n",
      "\tAll exits searched at 8, prune branch ...\n",
      "\tgo back to branch 1 ...\n",
      "step 9) Current Sequence: [5, 3, 2, 1]\n",
      "\tgo to 7 ...\n",
      "step 10) Current Sequence: [5, 3, 2, 1, 7]\n",
      "\t7 is a dead-end, return back to 1\n",
      "step 11) Current Sequence: [5, 3, 2, 1]\n",
      "\tAll exits searched at 1, prune branch ...\n",
      "\tgo back to branch 2 ...\n",
      "step 12) Current Sequence: [5, 3, 2]\n",
      "\tgo to 6 ...\n",
      "step 13) Current Sequence: [5, 3, 2, 6]\n",
      "\t6 is a new branch\n",
      "\tgo to 9 ...\n",
      "step 14) Current Sequence: [5, 3, 2, 6, 9]\n",
      "found sequence: [5, 3, 2, 6, 9]\n",
      "step 15) Current Sequence: [5, 3, 2, 6]\n",
      "\tAll exits searched at 6, prune branch ...\n",
      "\tgo back to branch 2 ...\n",
      "step 16) Current Sequence: [5, 3, 2]\n",
      "\tAll exits searched at 2, prune branch ...\n",
      "\tgo back to branch 3 ...\n",
      "step 17) Current Sequence: [5, 3]\n",
      "\tgo to 4 ...\n",
      "step 18) Current Sequence: [5, 3, 4]\n",
      "\t4 is a dead-end, return back to 3\n",
      "step 19) Current Sequence: [5, 3]\n",
      "\tAll exits searched at 3, prune branch ...\n",
      "\tgo back to branch 5 ...\n",
      "step 20) Current Sequence: [5]\n",
      "\tgo to 6 ...\n",
      "step 21) Current Sequence: [5, 6]\n",
      "\t6 is a new branch\n",
      "\tgo to 9 ...\n",
      "step 22) Current Sequence: [5, 6, 9]\n",
      "found sequence: [5, 6, 9]\n",
      "step 23) Current Sequence: [5, 6]\n",
      "\tgo to 2 ...\n",
      "step 24) Current Sequence: [5, 6, 2]\n",
      "\t2 is a new branch\n",
      "\tgo to 1 ...\n",
      "step 25) Current Sequence: [5, 6, 2, 1]\n",
      "\t1 is a new branch\n",
      "\tgo to 8 ...\n",
      "step 26) Current Sequence: [5, 6, 2, 1, 8]\n",
      "\t8 is a new branch\n",
      "\tgo to 12 ...\n",
      "step 27) Current Sequence: [5, 6, 2, 1, 8, 12]\n",
      "\t12 is a dead-end, return back to 8\n",
      "step 28) Current Sequence: [5, 6, 2, 1, 8]\n",
      "\tgo to 9 ...\n",
      "step 29) Current Sequence: [5, 6, 2, 1, 8, 9]\n",
      "found sequence: [5, 6, 2, 1, 8, 9]\n",
      "step 30) Current Sequence: [5, 6, 2, 1, 8]\n",
      "\tAll exits searched at 8, prune branch ...\n",
      "\tgo back to branch 1 ...\n",
      "step 31) Current Sequence: [5, 6, 2, 1]\n",
      "\tgo to 7 ...\n",
      "step 32) Current Sequence: [5, 6, 2, 1, 7]\n",
      "\t7 is a dead-end, return back to 1\n",
      "step 33) Current Sequence: [5, 6, 2, 1]\n",
      "\tAll exits searched at 1, prune branch ...\n",
      "\tgo back to branch 2 ...\n",
      "step 34) Current Sequence: [5, 6, 2]\n",
      "\tgo to 3 ...\n",
      "step 35) Current Sequence: [5, 6, 2, 3]\n",
      "\t3 is a new branch\n",
      "\tgo to 4 ...\n",
      "step 36) Current Sequence: [5, 6, 2, 3, 4]\n",
      "\t4 is a dead-end, return back to 3\n",
      "step 37) Current Sequence: [5, 6, 2, 3]\n",
      "\tAll exits searched at 3, prune branch ...\n",
      "\tgo back to branch 2 ...\n",
      "step 38) Current Sequence: [5, 6, 2]\n",
      "\tAll exits searched at 2, prune branch ...\n",
      "\tgo back to branch 6 ...\n",
      "step 39) Current Sequence: [5, 6]\n",
      "\tAll exits searched at 6, prune branch ...\n",
      "\tgo back to branch 5 ...\n",
      "step 40) Current Sequence: [5]\n",
      "\tAll exits searched at 5, prune branch ...\n"
     ]
    }
   ],
   "source": [
    "paths = G.find_all_paths(5, 9, 1)"
   ]
  },
  {
   "cell_type": "code",
   "execution_count": 8,
   "metadata": {},
   "outputs": [
    {
     "name": "stdout",
     "output_type": "stream",
     "text": [
      "5 -> 3 -> 2 -> 1 -> 8 -> 9\n",
      "5 -> 6 -> 2 -> 1 -> 8 -> 9\n",
      "5 -> 3 -> 2 -> 6 -> 9\n",
      "5 -> 6 -> 9\n"
     ]
    }
   ],
   "source": [
    "for p in paths:\n",
    "    p.show()"
   ]
  },
  {
   "cell_type": "code",
   "execution_count": 9,
   "metadata": {},
   "outputs": [
    {
     "name": "stdout",
     "output_type": "stream",
     "text": [
      "5 -> 6 -> 9\n"
     ]
    }
   ],
   "source": [
    "G.shortest_path_slow(5,9).show()"
   ]
  },
  {
   "cell_type": "code",
   "execution_count": 10,
   "metadata": {},
   "outputs": [
    {
     "data": {
      "text/plain": [
       "<core.Path at 0x1713d560690>"
      ]
     },
     "execution_count": 10,
     "metadata": {},
     "output_type": "execute_result"
    }
   ],
   "source": [
    "G.shortest_path_slow(5, 9, respect_edge_length=True).show()"
   ]
  }
 ],
 "metadata": {
  "kernelspec": {
   "display_name": "Python 3",
   "language": "python",
   "name": "python3"
  },
  "language_info": {
   "codemirror_mode": {
    "name": "ipython",
    "version": 3
   },
   "file_extension": ".py",
   "mimetype": "text/x-python",
   "name": "python",
   "nbconvert_exporter": "python",
   "pygments_lexer": "ipython3",
   "version": "3.11.4"
  }
 },
 "nbformat": 4,
 "nbformat_minor": 2
}
