{
 "cells": [
  {
   "cell_type": "code",
   "execution_count": 1,
   "metadata": {},
   "outputs": [],
   "source": [
    "from core import *"
   ]
  },
  {
   "cell_type": "code",
   "execution_count": 2,
   "metadata": {},
   "outputs": [],
   "source": [
    "G = PathGraph('TestGraph', directed=0)"
   ]
  },
  {
   "cell_type": "code",
   "execution_count": 3,
   "metadata": {},
   "outputs": [],
   "source": [
    "# create a bunch of nodes\n",
    "nodes = [Node(G) for i in range(12)]"
   ]
  },
  {
   "cell_type": "code",
   "execution_count": 4,
   "metadata": {},
   "outputs": [
    {
     "data": {
      "text/plain": [
       "<core.Edge at 0x140713cd350>"
      ]
     },
     "execution_count": 4,
     "metadata": {},
     "output_type": "execute_result"
    }
   ],
   "source": [
    "# create a bunch of edges\n",
    "G.node(1).link(2)\n",
    "G.node(1).link(7)\n",
    "G.node(1).link(8)\n",
    "G.node(2).link(3)\n",
    "G.node(2).link(6)\n",
    "G.node(3).link(4)\n",
    "G.node(3).link(5)\n",
    "G.node(5).link(6)\n",
    "G.node(6).link(9)\n",
    "G.node(8).link(9)\n",
    "G.node(8).link(12)\n",
    "G.node(9).link(10)\n",
    "G.node(9).link(11)"
   ]
  },
  {
   "cell_type": "markdown",
   "metadata": {},
   "source": [
    "```mermaid\n",
    "flowchart LR\n",
    "    id_1((1))\n",
    "    id_2((2))\n",
    "    id_3((3))\n",
    "    id_4((4))\n",
    "    id_5((5))\n",
    "    id_6((6))\n",
    "    id_7((7))\n",
    "    id_8((8))\n",
    "    id_9((9))\n",
    "    id_10((10))\n",
    "    id_11((11))\n",
    "    id_12((12))\n",
    "\n",
    "    id_1 --- id_2\n",
    "    id_1 --- id_7\n",
    "    id_1 --- id_8\n",
    "    id_2 --- id_3\n",
    "    id_2 --- id_6\n",
    "    id_3 --- id_4\n",
    "    id_3 --- id_5\n",
    "    id_5 --- id_6\n",
    "    id_6 --- id_9\n",
    "    id_8 --- id_9\n",
    "    id_8 --- id_12\n",
    "    id_9 --- id_10\n",
    "    id_9 --- id_11\n",
    "```"
   ]
  },
  {
   "cell_type": "code",
   "execution_count": 5,
   "metadata": {},
   "outputs": [],
   "source": [
    "a = [3,1,5,8,3,0]"
   ]
  },
  {
   "cell_type": "code",
   "execution_count": 6,
   "metadata": {},
   "outputs": [
    {
     "data": {
      "text/plain": [
       "{0, 1, 3, 5, 8}"
      ]
     },
     "execution_count": 6,
     "metadata": {},
     "output_type": "execute_result"
    }
   ],
   "source": [
    "set(a)"
   ]
  },
  {
   "cell_type": "code",
   "execution_count": 7,
   "metadata": {},
   "outputs": [
    {
     "name": "stdout",
     "output_type": "stream",
     "text": [
      "step 0) Current Sequence: [5]\n",
      "\t5 is a new branch\n",
      "\tgo to 3 ...\n",
      "step 1) Current Sequence: [5, 3]\n",
      "\t3 is a new branch\n",
      "\tgo to 2 ...\n",
      "step 2) Current Sequence: [5, 3, 2]\n",
      "\t2 is a new branch\n",
      "\tgo to 1 ...\n",
      "step 3) Current Sequence: [5, 3, 2, 1]\n",
      "\t1 is a new branch\n",
      "\tgo to 8 ...\n",
      "step 4) Current Sequence: [5, 3, 2, 1, 8]\n",
      "\t8 is a new branch\n",
      "\tgo to 12 ...\n",
      "step 5) Current Sequence: [5, 3, 2, 1, 8, 12]\n",
      "\t12 is a dead-end, return back to 8\n",
      "step 6) Current Sequence: [5, 3, 2, 1, 8]\n",
      "\tgo to 9 ...\n",
      "step 7) Current Sequence: [5, 3, 2, 1, 8, 9]\n",
      "found sequence: [5, 3, 2, 1, 8, 9]\n",
      "step 8) Current Sequence: [5, 3, 2, 1, 8]\n",
      "\tAll exits searched at 8, prune branch ...\n",
      "\tgo back to branch 1 ...\n",
      "step 9) Current Sequence: [5, 3, 2, 1]\n",
      "\tgo to 7 ...\n",
      "step 10) Current Sequence: [5, 3, 2, 1, 7]\n",
      "\t7 is a dead-end, return back to 1\n",
      "step 11) Current Sequence: [5, 3, 2, 1]\n",
      "\tAll exits searched at 1, prune branch ...\n",
      "\tgo back to branch 2 ...\n",
      "step 12) Current Sequence: [5, 3, 2]\n",
      "\tgo to 6 ...\n",
      "step 13) Current Sequence: [5, 3, 2, 6]\n",
      "\t6 is a new branch\n",
      "\tgo to 9 ...\n",
      "step 14) Current Sequence: [5, 3, 2, 6, 9]\n",
      "found sequence: [5, 3, 2, 6, 9]\n",
      "step 15) Current Sequence: [5, 3, 2, 6]\n",
      "\tAll exits searched at 6, prune branch ...\n",
      "\tgo back to branch 2 ...\n",
      "step 16) Current Sequence: [5, 3, 2]\n",
      "\tAll exits searched at 2, prune branch ...\n",
      "\tgo back to branch 3 ...\n",
      "step 17) Current Sequence: [5, 3]\n",
      "\tgo to 4 ...\n",
      "step 18) Current Sequence: [5, 3, 4]\n",
      "\t4 is a dead-end, return back to 3\n",
      "step 19) Current Sequence: [5, 3]\n",
      "\tAll exits searched at 3, prune branch ...\n",
      "\tgo back to branch 5 ...\n",
      "step 20) Current Sequence: [5]\n",
      "\tgo to 6 ...\n",
      "step 21) Current Sequence: [5, 6]\n",
      "\t6 is a new branch\n",
      "\tgo to 9 ...\n",
      "step 22) Current Sequence: [5, 6, 9]\n",
      "found sequence: [5, 6, 9]\n",
      "step 23) Current Sequence: [5, 6]\n",
      "\tgo to 2 ...\n",
      "step 24) Current Sequence: [5, 6, 2]\n",
      "\t2 is a new branch\n",
      "\tgo to 1 ...\n",
      "step 25) Current Sequence: [5, 6, 2, 1]\n",
      "\t1 is a new branch\n",
      "\tgo to 8 ...\n",
      "step 26) Current Sequence: [5, 6, 2, 1, 8]\n",
      "\t8 is a new branch\n",
      "\tgo to 12 ...\n",
      "step 27) Current Sequence: [5, 6, 2, 1, 8, 12]\n",
      "\t12 is a dead-end, return back to 8\n",
      "step 28) Current Sequence: [5, 6, 2, 1, 8]\n",
      "\tgo to 9 ...\n",
      "step 29) Current Sequence: [5, 6, 2, 1, 8, 9]\n",
      "found sequence: [5, 6, 2, 1, 8, 9]\n",
      "step 30) Current Sequence: [5, 6, 2, 1, 8]\n",
      "\tAll exits searched at 8, prune branch ...\n",
      "\tgo back to branch 1 ...\n",
      "step 31) Current Sequence: [5, 6, 2, 1]\n",
      "\tgo to 7 ...\n",
      "step 32) Current Sequence: [5, 6, 2, 1, 7]\n",
      "\t7 is a dead-end, return back to 1\n",
      "step 33) Current Sequence: [5, 6, 2, 1]\n",
      "\tAll exits searched at 1, prune branch ...\n",
      "\tgo back to branch 2 ...\n",
      "step 34) Current Sequence: [5, 6, 2]\n",
      "\tgo to 3 ...\n",
      "step 35) Current Sequence: [5, 6, 2, 3]\n",
      "\t3 is a new branch\n",
      "\tgo to 4 ...\n",
      "step 36) Current Sequence: [5, 6, 2, 3, 4]\n",
      "\t4 is a dead-end, return back to 3\n",
      "step 37) Current Sequence: [5, 6, 2, 3]\n",
      "\tAll exits searched at 3, prune branch ...\n",
      "\tgo back to branch 2 ...\n",
      "step 38) Current Sequence: [5, 6, 2]\n",
      "\tAll exits searched at 2, prune branch ...\n",
      "\tgo back to branch 6 ...\n",
      "step 39) Current Sequence: [5, 6]\n",
      "\tAll exits searched at 6, prune branch ...\n",
      "\tgo back to branch 5 ...\n",
      "step 40) Current Sequence: [5]\n",
      "\tAll exits searched at 5, prune branch ...\n"
     ]
    }
   ],
   "source": [
    "paths = G.find_all_paths(5, 9, 1)"
   ]
  },
  {
   "cell_type": "code",
   "execution_count": 8,
   "metadata": {},
   "outputs": [
    {
     "name": "stdout",
     "output_type": "stream",
     "text": [
      "5 -> 6 -> 2 -> 1 -> 8 -> 9\n",
      "5 -> 3 -> 2 -> 6 -> 9\n",
      "5 -> 6 -> 9\n",
      "5 -> 3 -> 2 -> 1 -> 8 -> 9\n"
     ]
    }
   ],
   "source": [
    "for p in paths:\n",
    "    p.show()"
   ]
  },
  {
   "cell_type": "code",
   "execution_count": 9,
   "metadata": {},
   "outputs": [
    {
     "name": "stdout",
     "output_type": "stream",
     "text": [
      "5 -> 6 -> 9\n"
     ]
    }
   ],
   "source": [
    "G.shortest_path_slow(5,9).show()"
   ]
  },
  {
   "cell_type": "code",
   "execution_count": 10,
   "metadata": {},
   "outputs": [
    {
     "name": "stdout",
     "output_type": "stream",
     "text": [
      "5 -> 6 -> 9\n"
     ]
    }
   ],
   "source": [
    "G.shortest_path_slow(5, 9, respect_edge_length=True).show()"
   ]
  },
  {
   "cell_type": "code",
   "execution_count": 11,
   "metadata": {},
   "outputs": [
    {
     "name": "stdout",
     "output_type": "stream",
     "text": [
      "graphyte_graph_testgraph_plot.html\n"
     ]
    }
   ],
   "source": [
    "from vis import plot\n",
    "\n",
    "plot(G)"
   ]
  },
  {
   "cell_type": "code",
   "execution_count": 12,
   "metadata": {},
   "outputs": [
    {
     "data": {
      "text/plain": [
       "False"
      ]
     },
     "execution_count": 12,
     "metadata": {},
     "output_type": "execute_result"
    }
   ],
   "source": [
    "type(G) == GraphLike"
   ]
  },
  {
   "cell_type": "code",
   "execution_count": 13,
   "metadata": {},
   "outputs": [
    {
     "data": {
      "text/plain": [
       "True"
      ]
     },
     "execution_count": 13,
     "metadata": {},
     "output_type": "execute_result"
    }
   ],
   "source": [
    "issubclass(type(G), GraphLike)"
   ]
  },
  {
   "cell_type": "code",
   "execution_count": 14,
   "metadata": {},
   "outputs": [
    {
     "data": {
      "text/plain": [
       "array([[0, 1, 0, 0, 0, 0, 1, 1, 0, 0, 0, 0],\n",
       "       [1, 0, 1, 0, 0, 1, 0, 0, 0, 0, 0, 0],\n",
       "       [0, 1, 0, 1, 1, 0, 0, 0, 0, 0, 0, 0],\n",
       "       [0, 0, 1, 0, 0, 0, 0, 0, 0, 0, 0, 0],\n",
       "       [0, 0, 1, 0, 0, 1, 0, 0, 0, 0, 0, 0],\n",
       "       [0, 1, 0, 0, 1, 0, 0, 0, 1, 0, 0, 0],\n",
       "       [1, 0, 0, 0, 0, 0, 0, 0, 0, 0, 0, 0],\n",
       "       [1, 0, 0, 0, 0, 0, 0, 0, 1, 0, 0, 1],\n",
       "       [0, 0, 0, 0, 0, 1, 0, 1, 0, 1, 1, 0],\n",
       "       [0, 0, 0, 0, 0, 0, 0, 0, 1, 0, 0, 0],\n",
       "       [0, 0, 0, 0, 0, 0, 0, 0, 1, 0, 0, 0],\n",
       "       [0, 0, 0, 0, 0, 0, 0, 1, 0, 0, 0, 0]])"
      ]
     },
     "execution_count": 14,
     "metadata": {},
     "output_type": "execute_result"
    }
   ],
   "source": [
    "G.adjacency_matrix()"
   ]
  },
  {
   "cell_type": "code",
   "execution_count": 15,
   "metadata": {},
   "outputs": [
    {
     "data": {
      "text/plain": [
       "<core.Edge at 0x14071caaa50>"
      ]
     },
     "execution_count": 15,
     "metadata": {},
     "output_type": "execute_result"
    }
   ],
   "source": [
    "a = AdvancedGraph()\n",
    "\n",
    "for i in range(10):\n",
    "    a.add_node(i)\n",
    "\n",
    "a.node(0).link(9)\n",
    "a.node(9).link(2)\n",
    "a.node(5).link(3)\n",
    "a.node(1).link(6)\n",
    "a.node(6).link(8)"
   ]
  },
  {
   "cell_type": "code",
   "execution_count": 16,
   "metadata": {},
   "outputs": [
    {
     "ename": "TypeError",
     "evalue": "'NoneType' object is not iterable",
     "output_type": "error",
     "traceback": [
      "\u001b[1;31m---------------------------------------------------------------------------\u001b[0m",
      "\u001b[1;31mTypeError\u001b[0m                                 Traceback (most recent call last)",
      "Cell \u001b[1;32mIn[16], line 1\u001b[0m\n\u001b[1;32m----> 1\u001b[0m \u001b[43ma\u001b[49m\u001b[38;5;241;43m.\u001b[39;49m\u001b[43msplit_into_components\u001b[49m\u001b[43m(\u001b[49m\u001b[43m)\u001b[49m\n",
      "File \u001b[1;32mc:\\Users\\weezl\\Desktop\\B0-B\\Scripting\\graphyte\\core.py:1247\u001b[0m, in \u001b[0;36mAdvancedGraph.split_into_components\u001b[1;34m(self)\u001b[0m\n\u001b[0;32m   1245\u001b[0m     reach_set \u001b[38;5;241m=\u001b[39m \u001b[38;5;28mself\u001b[39m\u001b[38;5;241m.\u001b[39mreachable_nodes(pointer)\n\u001b[0;32m   1246\u001b[0m     comp_set \u001b[38;5;241m=\u001b[39m reach_set\u001b[38;5;241m.\u001b[39madd(pointer)\n\u001b[1;32m-> 1247\u001b[0m     output_list\u001b[38;5;241m.\u001b[39mappend(\u001b[43mConnectedComponent\u001b[49m\u001b[43m(\u001b[49m\u001b[38;5;28;43mself\u001b[39;49m\u001b[43m,\u001b[49m\u001b[43m \u001b[49m\u001b[43mcomp_set\u001b[49m\u001b[43m)\u001b[49m)\n\u001b[0;32m   1248\u001b[0m     search_set\u001b[38;5;241m.\u001b[39mdifference_update(comp_set)\n\u001b[0;32m   1250\u001b[0m \u001b[38;5;28;01mreturn\u001b[39;00m output_list\n",
      "File \u001b[1;32mc:\\Users\\weezl\\Desktop\\B0-B\\Scripting\\graphyte\\core.py:1261\u001b[0m, in \u001b[0;36mConnectedComponent.__init__\u001b[1;34m(self, parent_graph, node_set)\u001b[0m\n\u001b[0;32m   1258\u001b[0m \u001b[38;5;28msuper\u001b[39m()\u001b[38;5;241m.\u001b[39m\u001b[38;5;21m__init__\u001b[39m(name\u001b[38;5;241m=\u001b[39m\u001b[38;5;124mf\u001b[39m\u001b[38;5;124m'\u001b[39m\u001b[38;5;132;01m{\u001b[39;00mparent_graph\u001b[38;5;241m.\u001b[39mname\u001b[38;5;132;01m}\u001b[39;00m\u001b[38;5;124m_component_\u001b[39m\u001b[38;5;132;01m{\u001b[39;00m\u001b[38;5;28mself\u001b[39m\u001b[38;5;241m.\u001b[39mcomponent_id\u001b[38;5;132;01m}\u001b[39;00m\u001b[38;5;124m'\u001b[39m, directed\u001b[38;5;241m=\u001b[39mparent_graph\u001b[38;5;241m.\u001b[39mdirected)\n\u001b[0;32m   1260\u001b[0m \u001b[38;5;66;03m# Accept te node set as new node space.\u001b[39;00m\n\u001b[1;32m-> 1261\u001b[0m \u001b[38;5;28mself\u001b[39m\u001b[38;5;241m.\u001b[39mnode_space \u001b[38;5;241m=\u001b[39m node_set \u001b[38;5;28;01mif\u001b[39;00m \u001b[38;5;28mtype\u001b[39m(node_set) \u001b[38;5;129;01mis\u001b[39;00m \u001b[38;5;28mset\u001b[39m \u001b[38;5;28;01melse\u001b[39;00m \u001b[38;5;28;43mset\u001b[39;49m\u001b[43m(\u001b[49m\u001b[43mnode_set\u001b[49m\u001b[43m)\u001b[49m\n\u001b[0;32m   1263\u001b[0m \u001b[38;5;66;03m# Copy only valid edges.\u001b[39;00m\n\u001b[0;32m   1264\u001b[0m \u001b[38;5;28mself\u001b[39m\u001b[38;5;241m.\u001b[39medge_space \u001b[38;5;241m=\u001b[39m \u001b[38;5;28mset\u001b[39m()\n",
      "\u001b[1;31mTypeError\u001b[0m: 'NoneType' object is not iterable"
     ]
    }
   ],
   "source": [
    "a.split_into_components()"
   ]
  },
  {
   "cell_type": "code",
   "execution_count": 17,
   "metadata": {},
   "outputs": [],
   "source": [
    "a = dict()\n",
    "a[1] = 1\n",
    "if a:\n",
    "    print(1)"
   ]
  }
 ],
 "metadata": {
  "kernelspec": {
   "display_name": "Python 3",
   "language": "python",
   "name": "python3"
  },
  "language_info": {
   "codemirror_mode": {
    "name": "ipython",
    "version": 3
   },
   "file_extension": ".py",
   "mimetype": "text/x-python",
   "name": "python",
   "nbconvert_exporter": "python",
   "pygments_lexer": "ipython3",
   "version": "3.11.4"
  }
 },
 "nbformat": 4,
 "nbformat_minor": 2
}
