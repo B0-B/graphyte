{
 "cells": [
  {
   "cell_type": "code",
   "execution_count": 6,
   "metadata": {},
   "outputs": [],
   "source": [
    "from core.graph import *\n",
    "from core.generate import *\n",
    "from visual import show"
   ]
  },
  {
   "cell_type": "code",
   "execution_count": 7,
   "metadata": {},
   "outputs": [],
   "source": [
    "maze = generate_maze(10)"
   ]
  },
  {
   "cell_type": "markdown",
   "metadata": {},
   "source": []
  },
  {
   "cell_type": "code",
   "execution_count": 8,
   "metadata": {},
   "outputs": [
    {
     "data": {
      "text/html": [
       "\n",
       "    <script type=\"module\">\n",
       "        import mermaid from 'https://cdn.jsdelivr.net/npm/mermaid@8.13.4/dist/mermaid.esm.min.mjs';\n",
       "        mermaid.initialize({\n",
       "            startOnLoad: true,\n",
       "            maxEdges: 10000  // Increase this value as needed\n",
       "        });\n",
       "    </script>\n",
       "    "
      ],
      "text/plain": [
       "<IPython.core.display.HTML object>"
      ]
     },
     "metadata": {},
     "output_type": "display_data"
    },
    {
     "data": {
      "text/markdown": [
       "# Maze\n",
       "\n",
       "```mermaid\n",
       "flowchart LR\n",
       "\tid_1((1))\n",
       "\tid_2((2))\n",
       "\tid_3((3))\n",
       "\tid_4((4))\n",
       "\tid_5((5))\n",
       "\tid_6((6))\n",
       "\tid_7((7))\n",
       "\tid_8((8))\n",
       "\tid_9((9))\n",
       "\tid_10((10))\n",
       "\tid_11((11))\n",
       "\tid_12((12))\n",
       "\tid_13((13))\n",
       "\tid_14((14))\n",
       "\tid_15((15))\n",
       "\tid_16((16))\n",
       "\tid_17((17))\n",
       "\tid_18((18))\n",
       "\tid_19((19))\n",
       "\tid_20((20))\n",
       "\tid_21((21))\n",
       "\tid_22((22))\n",
       "\tid_23((23))\n",
       "\tid_24((24))\n",
       "\tid_25((25))\n",
       "\tid_3 --- id_4\n",
       "\tid_12 --- id_13\n",
       "\tid_21 --- id_22\n",
       "\tid_22 --- id_23\n",
       "\tid_8 --- id_9\n",
       "\tid_13 --- id_14\n",
       "\tid_18 --- id_19\n",
       "\tid_4 --- id_5\n",
       "\tid_5 --- id_6\n",
       "\tid_18 --- id_25\n",
       "\tid_14 --- id_15\n",
       "\tid_9 --- id_10\n",
       "\tid_1 --- id_2\n",
       "\tid_19 --- id_20\n",
       "\tid_6 --- id_7\n",
       "\tid_15 --- id_16\n",
       "\tid_16 --- id_18\n",
       "\tid_20 --- id_24\n",
       "\tid_2 --- id_3\n",
       "\tid_11 --- id_12\n",
       "\tid_7 --- id_8\n",
       "\tid_2 --- id_21\n",
       "\tid_7 --- id_11\n",
       "\tid_16 --- id_17\n",
       "```"
      ],
      "text/plain": [
       "<IPython.core.display.Markdown object>"
      ]
     },
     "metadata": {},
     "output_type": "display_data"
    }
   ],
   "source": [
    "show(maze)"
   ]
  },
  {
   "cell_type": "code",
   "execution_count": 4,
   "metadata": {},
   "outputs": [
    {
     "data": {
      "text/plain": [
       "2640"
      ]
     },
     "execution_count": 4,
     "metadata": {},
     "output_type": "execute_result"
    }
   ],
   "source": [
    "maze.node_count()"
   ]
  },
  {
   "cell_type": "code",
   "execution_count": 5,
   "metadata": {},
   "outputs": [
    {
     "data": {
      "text/markdown": [
       "# This is a heading\n",
       "\n",
       "This is a paragraph with some **bold** text."
      ],
      "text/plain": [
       "<IPython.core.display.Markdown object>"
      ]
     },
     "metadata": {},
     "output_type": "display_data"
    }
   ],
   "source": [
    "from IPython.display import Markdown, display\n",
    "\n",
    "def turn_to_md(markdown_payload):\n",
    "    display(Markdown(markdown_payload))\n",
    "\n",
    "# Example usage:\n",
    "turn_to_md(\"# This is a heading\\n\\nThis is a paragraph with some **bold** text.\")\n"
   ]
  }
 ],
 "metadata": {
  "kernelspec": {
   "display_name": "Python 3",
   "language": "python",
   "name": "python3"
  },
  "language_info": {
   "codemirror_mode": {
    "name": "ipython",
    "version": 3
   },
   "file_extension": ".py",
   "mimetype": "text/x-python",
   "name": "python",
   "nbconvert_exporter": "python",
   "pygments_lexer": "ipython3",
   "version": "3.11.4"
  }
 },
 "nbformat": 4,
 "nbformat_minor": 2
}
