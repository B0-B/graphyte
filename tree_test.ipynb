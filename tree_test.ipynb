{
 "cells": [
  {
   "cell_type": "code",
   "execution_count": 1,
   "metadata": {},
   "outputs": [],
   "source": [
    "from core.graph import *\n",
    "from visual import show"
   ]
  },
  {
   "cell_type": "code",
   "execution_count": 2,
   "metadata": {},
   "outputs": [],
   "source": [
    "T = BaseTree(depth=5, degree=2)"
   ]
  },
  {
   "cell_type": "code",
   "execution_count": 3,
   "metadata": {},
   "outputs": [
    {
     "data": {
      "text/markdown": [
       "# Tree_01\n",
       "\n",
       "```mermaid\n",
       "flowchart TB\n",
       "\tid_0((0))\n",
       "\tid_1((1))\n",
       "\tid_2((2))\n",
       "\tid_3((3))\n",
       "\tid_4((4))\n",
       "\tid_5((5))\n",
       "\tid_6((6))\n",
       "\tid_7((7))\n",
       "\tid_8((8))\n",
       "\tid_9((9))\n",
       "\tid_10((10))\n",
       "\tid_11((11))\n",
       "\tid_12((12))\n",
       "\tid_13((13))\n",
       "\tid_14((14))\n",
       "\tid_15((15))\n",
       "\tid_16((16))\n",
       "\tid_17((17))\n",
       "\tid_18((18))\n",
       "\tid_19((19))\n",
       "\tid_20((20))\n",
       "\tid_21((21))\n",
       "\tid_22((22))\n",
       "\tid_23((23))\n",
       "\tid_24((24))\n",
       "\tid_25((25))\n",
       "\tid_26((26))\n",
       "\tid_27((27))\n",
       "\tid_28((28))\n",
       "\tid_29((29))\n",
       "\tid_30((30))\n",
       "\tid_31((31))\n",
       "\tid_32((32))\n",
       "\tid_33((33))\n",
       "\tid_34((34))\n",
       "\tid_35((35))\n",
       "\tid_36((36))\n",
       "\tid_37((37))\n",
       "\tid_38((38))\n",
       "\tid_39((39))\n",
       "\tid_40((40))\n",
       "\tid_41((41))\n",
       "\tid_42((42))\n",
       "\tid_43((43))\n",
       "\tid_44((44))\n",
       "\tid_45((45))\n",
       "\tid_46((46))\n",
       "\tid_47((47))\n",
       "\tid_48((48))\n",
       "\tid_49((49))\n",
       "\tid_50((50))\n",
       "\tid_51((51))\n",
       "\tid_52((52))\n",
       "\tid_53((53))\n",
       "\tid_54((54))\n",
       "\tid_55((55))\n",
       "\tid_56((56))\n",
       "\tid_57((57))\n",
       "\tid_58((58))\n",
       "\tid_59((59))\n",
       "\tid_60((60))\n",
       "\tid_61((61))\n",
       "\tid_62((62))\n",
       "\tid_25 --> id_29\n",
       "\tid_50 --> id_52\n",
       "\tid_3 --> id_4\n",
       "\tid_26 --> id_27\n",
       "\tid_3 --> id_7\n",
       "\tid_35 --> id_36\n",
       "\tid_4 --> id_6\n",
       "\tid_14 --> id_16\n",
       "\tid_22 --> id_23\n",
       "\tid_60 --> id_62\n",
       "\tid_49 --> id_50\n",
       "\tid_17 --> id_18\n",
       "\tid_49 --> id_53\n",
       "\tid_19 --> id_21\n",
       "\tid_25 --> id_26\n",
       "\tid_45 --> id_46\n",
       "\tid_32 --> id_33\n",
       "\tid_0 --> id_32\n",
       "\tid_41 --> id_42\n",
       "\tid_18 --> id_19\n",
       "\tid_41 --> id_45\n",
       "\tid_50 --> id_51\n",
       "\tid_42 --> id_44\n",
       "\tid_4 --> id_5\n",
       "\tid_18 --> id_22\n",
       "\tid_33 --> id_41\n",
       "\tid_60 --> id_61\n",
       "\tid_29 --> id_31\n",
       "\tid_38 --> id_40\n",
       "\tid_32 --> id_48\n",
       "\tid_14 --> id_15\n",
       "\tid_0 --> id_1\n",
       "\tid_57 --> id_59\n",
       "\tid_1 --> id_2\n",
       "\tid_10 --> id_11\n",
       "\tid_48 --> id_56\n",
       "\tid_10 --> id_14\n",
       "\tid_11 --> id_13\n",
       "\tid_2 --> id_10\n",
       "\tid_19 --> id_20\n",
       "\tid_7 --> id_9\n",
       "\tid_1 --> id_17\n",
       "\tid_53 --> id_55\n",
       "\tid_56 --> id_57\n",
       "\tid_33 --> id_34\n",
       "\tid_42 --> id_43\n",
       "\tid_26 --> id_28\n",
       "\tid_35 --> id_37\n",
       "\tid_56 --> id_60\n",
       "\tid_29 --> id_30\n",
       "\tid_38 --> id_39\n",
       "\tid_22 --> id_24\n",
       "\tid_48 --> id_49\n",
       "\tid_57 --> id_58\n",
       "\tid_34 --> id_35\n",
       "\tid_2 --> id_3\n",
       "\tid_11 --> id_12\n",
       "\tid_34 --> id_38\n",
       "\tid_17 --> id_25\n",
       "\tid_45 --> id_47\n",
       "\tid_53 --> id_54\n",
       "\tid_7 --> id_8\n",
       "```"
      ],
      "text/plain": [
       "<IPython.core.display.Markdown object>"
      ]
     },
     "metadata": {},
     "output_type": "display_data"
    }
   ],
   "source": [
    "show(T)"
   ]
  },
  {
   "cell_type": "code",
   "execution_count": 4,
   "metadata": {},
   "outputs": [
    {
     "data": {
      "text/plain": [
       "{2, 17, 33, 48}"
      ]
     },
     "execution_count": 4,
     "metadata": {},
     "output_type": "execute_result"
    }
   ],
   "source": [
    "T.depth_set(2)"
   ]
  },
  {
   "cell_type": "code",
   "execution_count": 5,
   "metadata": {},
   "outputs": [
    {
     "name": "stdout",
     "output_type": "stream",
     "text": [
      "0 -> 32 -> 48 -> 49 -> 50 -> 51\n"
     ]
    }
   ],
   "source": [
    "T.shortest_path(0, 51).show()"
   ]
  },
  {
   "cell_type": "code",
   "execution_count": 6,
   "metadata": {},
   "outputs": [
    {
     "name": "stdout",
     "output_type": "stream",
     "text": [
      "0 -> 32 -> 48 -> 49 -> 50 -> 51\n"
     ]
    }
   ],
   "source": [
    "T.shortest_length(0, 51).show()"
   ]
  },
  {
   "cell_type": "markdown",
   "metadata": {},
   "source": [
    "# Ordered Tree Permutation"
   ]
  },
  {
   "cell_type": "code",
   "execution_count": 7,
   "metadata": {},
   "outputs": [],
   "source": [
    "OT = OrderTree(depth=3, degree=2)"
   ]
  },
  {
   "cell_type": "code",
   "execution_count": null,
   "metadata": {},
   "outputs": [],
   "source": [
    "OT.child_list_map"
   ]
  },
  {
   "cell_type": "code",
   "execution_count": 8,
   "metadata": {},
   "outputs": [
    {
     "ename": "KeyError",
     "evalue": "3",
     "output_type": "error",
     "traceback": [
      "\u001b[1;31m---------------------------------------------------------------------------\u001b[0m",
      "\u001b[1;31mKeyError\u001b[0m                                  Traceback (most recent call last)",
      "Cell \u001b[1;32mIn[8], line 1\u001b[0m\n\u001b[1;32m----> 1\u001b[0m \u001b[43mshow\u001b[49m\u001b[43m(\u001b[49m\u001b[43mOT\u001b[49m\u001b[43m)\u001b[49m\n",
      "File \u001b[1;32mc:\\Users\\weezl\\Desktop\\B0-B\\Scripting\\graphyte\\visual.py:12\u001b[0m, in \u001b[0;36mshow\u001b[1;34m(graph)\u001b[0m\n\u001b[0;32m     10\u001b[0m \u001b[38;5;66;03m# convert to mermaid code\u001b[39;00m\n\u001b[0;32m     11\u001b[0m direction \u001b[38;5;241m=\u001b[39m \u001b[38;5;124m'\u001b[39m\u001b[38;5;124mTB\u001b[39m\u001b[38;5;124m'\u001b[39m \u001b[38;5;28;01mif\u001b[39;00m \u001b[38;5;28misinstance\u001b[39m(graph, BaseTree) \u001b[38;5;28;01melse\u001b[39;00m \u001b[38;5;124m'\u001b[39m\u001b[38;5;124mLR\u001b[39m\u001b[38;5;124m'\u001b[39m\n\u001b[1;32m---> 12\u001b[0m markdown_payload \u001b[38;5;241m=\u001b[39m \u001b[38;5;124mf\u001b[39m\u001b[38;5;124m\"\u001b[39m\u001b[38;5;124m# \u001b[39m\u001b[38;5;132;01m{\u001b[39;00mgraph\u001b[38;5;241m.\u001b[39mname\u001b[38;5;132;01m}\u001b[39;00m\u001b[38;5;130;01m\\n\u001b[39;00m\u001b[38;5;130;01m\\n\u001b[39;00m\u001b[38;5;124m\"\u001b[39m \u001b[38;5;241m+\u001b[39m \u001b[43mgraph\u001b[49m\u001b[38;5;241;43m.\u001b[39;49m\u001b[43mto_mermaid\u001b[49m\u001b[43m(\u001b[49m\u001b[43mdirection\u001b[49m\u001b[38;5;241;43m=\u001b[39;49m\u001b[43mdirection\u001b[49m\u001b[43m)\u001b[49m\n\u001b[0;32m     14\u001b[0m \u001b[38;5;66;03m# Render Markdown\u001b[39;00m\n\u001b[0;32m     15\u001b[0m rendered_md \u001b[38;5;241m=\u001b[39m Markdown(markdown_payload)\n",
      "File \u001b[1;32mc:\\Users\\weezl\\Desktop\\B0-B\\Scripting\\graphyte\\core\\graph.py:1968\u001b[0m, in \u001b[0;36mOrderTree.to_mermaid\u001b[1;34m(self, chart_type, direction)\u001b[0m\n\u001b[0;32m   1966\u001b[0m     \u001b[38;5;28;01mbreak\u001b[39;00m\n\u001b[0;32m   1967\u001b[0m \u001b[38;5;28;01mfor\u001b[39;00m parent_id \u001b[38;5;129;01min\u001b[39;00m depth_set:\n\u001b[1;32m-> 1968\u001b[0m     \u001b[38;5;28;01mfor\u001b[39;00m child \u001b[38;5;129;01min\u001b[39;00m \u001b[38;5;28;43mself\u001b[39;49m\u001b[38;5;241;43m.\u001b[39;49m\u001b[43mchild_list_map\u001b[49m\u001b[43m[\u001b[49m\u001b[43mparent_id\u001b[49m\u001b[43m]\u001b[49m:\n\u001b[0;32m   1969\u001b[0m         tpl \u001b[38;5;241m=\u001b[39m (parent_id, child)\n\u001b[0;32m   1970\u001b[0m         \u001b[38;5;28;01mif\u001b[39;00m \u001b[38;5;28mself\u001b[39m\u001b[38;5;241m.\u001b[39mdirected:\n",
      "\u001b[1;31mKeyError\u001b[0m: 3"
     ]
    }
   ],
   "source": [
    "show(OT)"
   ]
  },
  {
   "cell_type": "code",
   "execution_count": null,
   "metadata": {},
   "outputs": [],
   "source": [
    "OT.permute(1, 2, 5)\n"
   ]
  },
  {
   "cell_type": "code",
   "execution_count": null,
   "metadata": {},
   "outputs": [],
   "source": [
    "show(OT)"
   ]
  }
 ],
 "metadata": {
  "kernelspec": {
   "display_name": "Python 3",
   "language": "python",
   "name": "python3"
  },
  "language_info": {
   "codemirror_mode": {
    "name": "ipython",
    "version": 3
   },
   "file_extension": ".py",
   "mimetype": "text/x-python",
   "name": "python",
   "nbconvert_exporter": "python",
   "pygments_lexer": "ipython3",
   "version": "3.11.4"
  }
 },
 "nbformat": 4,
 "nbformat_minor": 2
}
